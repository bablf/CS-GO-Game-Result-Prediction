{
  "nbformat": 4,
  "nbformat_minor": 0,
  "metadata": {
    "colab": {
      "name": "main.ipynb",
      "provenance": [],
      "collapsed_sections": [],
      "authorship_tag": "ABX9TyOqkar2bkzYvTkE3QduGZmz",
      "include_colab_link": true
    },
    "kernelspec": {
      "name": "python3",
      "display_name": "Python 3"
    },
    "accelerator": "GPU"
  },
  "cells": [
    {
      "cell_type": "markdown",
      "metadata": {
        "id": "view-in-github",
        "colab_type": "text"
      },
      "source": [
        "<a href=\"https://colab.research.google.com/github/bablf/csgo_betting_bot/blob/master/main.ipynb\" target=\"_parent\"><img src=\"https://colab.research.google.com/assets/colab-badge.svg\" alt=\"Open In Colab\"/></a>"
      ]
    },
    {
      "cell_type": "code",
      "metadata": {
        "id": "x6q-7UsgZCXD",
        "colab_type": "code",
        "colab": {}
      },
      "source": [
        "import os\n",
        "import importlib.util\n",
        "import pprint\n",
        "import csv\n",
        "from datetime import datetime, timedelta\n",
        "import numpy as np\n",
        "from sklearn.model_selection import train_test_split"
      ],
      "execution_count": 0,
      "outputs": []
    },
    {
      "cell_type": "markdown",
      "metadata": {
        "id": "1l8foJP4ZhBX",
        "colab_type": "text"
      },
      "source": [
        "This function takes a csv file and returns an array of arrays\n",
        "\n",
        "    [[    ],\n",
        "    [    ],\n",
        "    [    ],\n",
        "    ...   ]\n",
        "\n",
        "https://stackoverflow.com/a/53483446\n"
      ]
    },
    {
      "cell_type": "markdown",
      "metadata": {
        "id": "lBoWaegTaZEv",
        "colab_type": "text"
      },
      "source": [
        "CSV Structure\n",
        "\n",
        "    date, event, url, team1, team2\n",
        "    team1_player1_rating\n",
        "    team1_player2_rating\n",
        "    team1_player3_rating\n",
        "    team1_player4_rating\n",
        "    team1_player5_rating\n",
        "    team1_player1_weighted_rating\n",
        "    team1_player2_weighted_rating\n",
        "    team1_player3_weighted_rating\n",
        "    team1_player4_weighted_rating\n",
        "    team1_player5_weighted_rating\n",
        "    team2_player1_rating\n",
        "    team2_player2_rating\n",
        "    team2_player3_rating\n",
        "    team2_player4_rating\n",
        "    team2_player5_rating\n",
        "    team2_player1_weighted_rating\n",
        "    team2_player2_weighted_rating\n",
        "    team2_player3_weighted_rating\n",
        "    team2_player4_weighted_rating\n",
        "    team2_player5_weighted_rating\n",
        "    winner"
      ]
    },
    {
      "cell_type": "code",
      "metadata": {
        "id": "_xngb_GMZc02",
        "colab_type": "code",
        "colab": {}
      },
      "source": [
        "def import_csv(csvfilename):\n",
        "    data_x = [] # Feature\n",
        "    data_y = [] # Goldlabel\n",
        "    row_index = 1\n",
        "    with open(csvfilename, \"r\", encoding=\"utf-8\", errors=\"ignore\") as scraped:\n",
        "        reader = csv.reader(scraped, delimiter=',')\n",
        "        first_row = next(reader)  # skip to second line, because first doent have values\n",
        "        for row in reader:\n",
        "            if row:  # avoid blank lines\n",
        "                row_index += 1\n",
        "                x = row[5:-2] # take feature information\n",
        "                y = float(row[-1]) # take Goldlabel\n",
        "                x = [0.0 if elem == \"-\" else float(elem) for elem in x] # remove \"-\" und set to float\n",
        "                data_x.append(x)\n",
        "                data_y.append(y)\n",
        "        return np.array(data_x), np.array(data_y) # make numpy array"
      ],
      "execution_count": 0,
      "outputs": []
    },
    {
      "cell_type": "code",
      "metadata": {
        "id": "hRYfm0hsaCl3",
        "colab_type": "code",
        "colab": {
          "base_uri": "https://localhost:8080/",
          "height": 351
        },
        "outputId": "506f437b-4295-4df0-9823-16701fdb5572"
      },
      "source": [
        "if __name__ == \"__main__\" :\n",
        "    pp = pprint.PrettyPrinter()\n",
        "\n",
        "    data_x, data_y = import_csv(\"matches.csv\")\n",
        "    print(data_x)\n",
        "    print(data_x.shape)\n",
        "    print(data_y)\n",
        "    print(data_y.shape)"
      ],
      "execution_count": 3,
      "outputs": [
        {
          "output_type": "error",
          "ename": "FileNotFoundError",
          "evalue": "ignored",
          "traceback": [
            "\u001b[0;31m---------------------------------------------------------------------------\u001b[0m",
            "\u001b[0;31mFileNotFoundError\u001b[0m                         Traceback (most recent call last)",
            "\u001b[0;32m<ipython-input-3-b1f2828160d3>\u001b[0m in \u001b[0;36m<module>\u001b[0;34m()\u001b[0m\n\u001b[1;32m      2\u001b[0m     \u001b[0mpp\u001b[0m \u001b[0;34m=\u001b[0m \u001b[0mpprint\u001b[0m\u001b[0;34m.\u001b[0m\u001b[0mPrettyPrinter\u001b[0m\u001b[0;34m(\u001b[0m\u001b[0;34m)\u001b[0m\u001b[0;34m\u001b[0m\u001b[0;34m\u001b[0m\u001b[0m\n\u001b[1;32m      3\u001b[0m \u001b[0;34m\u001b[0m\u001b[0m\n\u001b[0;32m----> 4\u001b[0;31m     \u001b[0mdata_x\u001b[0m\u001b[0;34m,\u001b[0m \u001b[0mdata_y\u001b[0m \u001b[0;34m=\u001b[0m \u001b[0mimport_csv\u001b[0m\u001b[0;34m(\u001b[0m\u001b[0;34m\"Test 1.csv\"\u001b[0m\u001b[0;34m)\u001b[0m\u001b[0;34m\u001b[0m\u001b[0;34m\u001b[0m\u001b[0m\n\u001b[0m\u001b[1;32m      5\u001b[0m     \u001b[0mprint\u001b[0m\u001b[0;34m(\u001b[0m\u001b[0mdata_x\u001b[0m\u001b[0;34m)\u001b[0m\u001b[0;34m\u001b[0m\u001b[0;34m\u001b[0m\u001b[0m\n\u001b[1;32m      6\u001b[0m     \u001b[0mprint\u001b[0m\u001b[0;34m(\u001b[0m\u001b[0mdata_x\u001b[0m\u001b[0;34m.\u001b[0m\u001b[0mshape\u001b[0m\u001b[0;34m)\u001b[0m\u001b[0;34m\u001b[0m\u001b[0;34m\u001b[0m\u001b[0m\n",
            "\u001b[0;32m<ipython-input-2-07b5a07534af>\u001b[0m in \u001b[0;36mimport_csv\u001b[0;34m(csvfilename)\u001b[0m\n\u001b[1;32m      3\u001b[0m     \u001b[0mdata_y\u001b[0m \u001b[0;34m=\u001b[0m \u001b[0;34m[\u001b[0m\u001b[0;34m]\u001b[0m \u001b[0;31m# Goldlabel\u001b[0m\u001b[0;34m\u001b[0m\u001b[0;34m\u001b[0m\u001b[0m\n\u001b[1;32m      4\u001b[0m     \u001b[0mrow_index\u001b[0m \u001b[0;34m=\u001b[0m \u001b[0;36m1\u001b[0m\u001b[0;34m\u001b[0m\u001b[0;34m\u001b[0m\u001b[0m\n\u001b[0;32m----> 5\u001b[0;31m     \u001b[0;32mwith\u001b[0m \u001b[0mopen\u001b[0m\u001b[0;34m(\u001b[0m\u001b[0mcsvfilename\u001b[0m\u001b[0;34m,\u001b[0m \u001b[0;34m\"r\"\u001b[0m\u001b[0;34m,\u001b[0m \u001b[0mencoding\u001b[0m\u001b[0;34m=\u001b[0m\u001b[0;34m\"utf-8\"\u001b[0m\u001b[0;34m,\u001b[0m \u001b[0merrors\u001b[0m\u001b[0;34m=\u001b[0m\u001b[0;34m\"ignore\"\u001b[0m\u001b[0;34m)\u001b[0m \u001b[0;32mas\u001b[0m \u001b[0mscraped\u001b[0m\u001b[0;34m:\u001b[0m\u001b[0;34m\u001b[0m\u001b[0;34m\u001b[0m\u001b[0m\n\u001b[0m\u001b[1;32m      6\u001b[0m         \u001b[0mreader\u001b[0m \u001b[0;34m=\u001b[0m \u001b[0mcsv\u001b[0m\u001b[0;34m.\u001b[0m\u001b[0mreader\u001b[0m\u001b[0;34m(\u001b[0m\u001b[0mscraped\u001b[0m\u001b[0;34m,\u001b[0m \u001b[0mdelimiter\u001b[0m\u001b[0;34m=\u001b[0m\u001b[0;34m','\u001b[0m\u001b[0;34m)\u001b[0m\u001b[0;34m\u001b[0m\u001b[0;34m\u001b[0m\u001b[0m\n\u001b[1;32m      7\u001b[0m         \u001b[0mfirst_row\u001b[0m \u001b[0;34m=\u001b[0m \u001b[0mnext\u001b[0m\u001b[0;34m(\u001b[0m\u001b[0mreader\u001b[0m\u001b[0;34m)\u001b[0m  \u001b[0;31m# skip to second line, because first doent have values\u001b[0m\u001b[0;34m\u001b[0m\u001b[0;34m\u001b[0m\u001b[0m\n",
            "\u001b[0;31mFileNotFoundError\u001b[0m: [Errno 2] No such file or directory: 'Test 1.csv'"
          ]
        }
      ]
    }
  ]
}