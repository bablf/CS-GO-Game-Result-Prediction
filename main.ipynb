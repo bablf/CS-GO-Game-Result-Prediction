{
  "nbformat": 4,
  "nbformat_minor": 0,
  "metadata": {
    "colab": {
      "name": "main.ipynb",
      "provenance": [],
      "collapsed_sections": [],
      "authorship_tag": "ABX9TyOs/jXv7RvfHimZq2vvpW4h",
      "include_colab_link": true
    },
    "kernelspec": {
      "name": "python3",
      "display_name": "Python 3"
    }
  },
  "cells": [
    {
      "cell_type": "markdown",
      "metadata": {
        "id": "view-in-github",
        "colab_type": "text"
      },
      "source": [
        "<a href=\"https://colab.research.google.com/github/bablf/csgo_betting_bot/blob/master/main.ipynb\" target=\"_parent\"><img src=\"https://colab.research.google.com/assets/colab-badge.svg\" alt=\"Open In Colab\"/></a>"
      ]
    },
    {
      "cell_type": "code",
      "metadata": {
        "id": "x6q-7UsgZCXD",
        "colab_type": "code",
        "colab": {}
      },
      "source": [
        "import os\n",
        "import importlib.util\n",
        "import pprint\n",
        "import csv\n",
        "from datetime import datetime, timedelta\n",
        "import numpy as np\n",
        "from sklearn.model_selection import train_test_split"
      ],
      "execution_count": 0,
      "outputs": []
    },
    {
      "cell_type": "markdown",
      "metadata": {
        "id": "1l8foJP4ZhBX",
        "colab_type": "text"
      },
      "source": [
        "This function takes a csv file and returns an array of arrays\n",
        "\n",
        "    [[    ],\n",
        "    [    ],\n",
        "    [    ],\n",
        "    ...   ]\n",
        "\n",
        "https://stackoverflow.com/a/53483446\n"
      ]
    },
    {
      "cell_type": "markdown",
      "metadata": {
        "id": "lBoWaegTaZEv",
        "colab_type": "text"
      },
      "source": [
        "CSV Structure\n",
        "\n",
        "    date, event, url, team1, team2\n",
        "    team1_player1_rating\n",
        "    team1_player2_rating\n",
        "    team1_player3_rating\n",
        "    team1_player4_rating\n",
        "    team1_player5_rating\n",
        "    team1_player1_weighted_rating\n",
        "    team1_player2_weighted_rating\n",
        "    team1_player3_weighted_rating\n",
        "    team1_player4_weighted_rating\n",
        "    team1_player5_weighted_rating\n",
        "    team2_player1_rating\n",
        "    team2_player2_rating\n",
        "    team2_player3_rating\n",
        "    team2_player4_rating\n",
        "    team2_player5_rating\n",
        "    team2_player1_weighted_rating\n",
        "    team2_player2_weighted_rating\n",
        "    team2_player3_weighted_rating\n",
        "    team2_player4_weighted_rating\n",
        "    team2_player5_weighted_rating\n",
        "    winner"
      ]
    },
    {
      "cell_type": "code",
      "metadata": {
        "id": "_xngb_GMZc02",
        "colab_type": "code",
        "colab": {}
      },
      "source": [
        "def import_csv(csvfilename):\n",
        "    data_x = [] # Feature\n",
        "    data_y = [] # Goldlabel\n",
        "    row_index = 1\n",
        "    with open(csvfilename, \"r\", encoding=\"utf-8\", errors=\"ignore\") as scraped:\n",
        "        reader = csv.reader(scraped, delimiter=',')\n",
        "        first_row = next(reader)  # skip to second line, because first doent have values\n",
        "        for row in reader:\n",
        "            if row:  # avoid blank lines\n",
        "                row_index += 1\n",
        "                x = row[5:-2] # take feature information\n",
        "                y = float(row[-1]) # take Goldlabel\n",
        "                x = [0.0 if elem == \"-\" else float(elem) for elem in x] # remove \"-\" und set to float\n",
        "                data_x.append(x)\n",
        "                data_y.append(y)\n",
        "        return np.array(data_x), np.array(data_y) # make numpy array"
      ],
      "execution_count": 0,
      "outputs": []
    },
    {
      "cell_type": "code",
      "metadata": {
        "id": "hRYfm0hsaCl3",
        "colab_type": "code",
        "colab": {}
      },
      "source": [
        "if __name__ == \"__main__\" :\n",
        "    pp = pprint.PrettyPrinter()\n",
        "\n",
        "    data_x, data_y = import_csv(\"Test 1.csv\")\n",
        "    print(data_x)\n",
        "    print(data_x.shape)\n",
        "    print(data_y)\n",
        "    print(data_y.shape)"
      ],
      "execution_count": 0,
      "outputs": []
    }
  ]
}